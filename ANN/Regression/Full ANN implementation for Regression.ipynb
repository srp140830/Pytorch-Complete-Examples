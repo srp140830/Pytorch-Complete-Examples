{
 "cells": [
  {
   "cell_type": "code",
   "execution_count": 173,
   "id": "8582a751-63b5-410a-b273-d95658f03b25",
   "metadata": {},
   "outputs": [],
   "source": [
    "# Libraries\n",
    "# Importing necessary libraries for ANN implementation through Pytorch\n",
    "import torch\n",
    "import torch.nn as nn\n",
    "\n",
    "import numpy as np\n",
    "import pandas as pd\n",
    "import matplotlib.pyplot as plt\n",
    "%matplotlib inline"
   ]
  },
  {
   "cell_type": "code",
   "execution_count": null,
   "id": "2b15ae6d-1e5a-47e0-b1e6-74415d2ef67a",
   "metadata": {},
   "outputs": [],
   "source": []
  },
  {
   "cell_type": "markdown",
   "id": "17bc46d7-d291-42a8-bb39-146fcdb0ffff",
   "metadata": {},
   "source": [
    "# Reading in the NY taxi fare dataset."
   ]
  },
  {
   "cell_type": "code",
   "execution_count": 174,
   "id": "fd71b610-10f3-4784-b662-4fd923a36475",
   "metadata": {
    "scrolled": true
   },
   "outputs": [
    {
     "data": {
      "text/html": [
       "<div>\n",
       "<style scoped>\n",
       "    .dataframe tbody tr th:only-of-type {\n",
       "        vertical-align: middle;\n",
       "    }\n",
       "\n",
       "    .dataframe tbody tr th {\n",
       "        vertical-align: top;\n",
       "    }\n",
       "\n",
       "    .dataframe thead th {\n",
       "        text-align: right;\n",
       "    }\n",
       "</style>\n",
       "<table border=\"1\" class=\"dataframe\">\n",
       "  <thead>\n",
       "    <tr style=\"text-align: right;\">\n",
       "      <th></th>\n",
       "      <th>pickup_datetime</th>\n",
       "      <th>fare_amount</th>\n",
       "      <th>fare_class</th>\n",
       "      <th>pickup_longitude</th>\n",
       "      <th>pickup_latitude</th>\n",
       "      <th>dropoff_longitude</th>\n",
       "      <th>dropoff_latitude</th>\n",
       "      <th>passenger_count</th>\n",
       "    </tr>\n",
       "  </thead>\n",
       "  <tbody>\n",
       "    <tr>\n",
       "      <th>0</th>\n",
       "      <td>2010-04-19 08:17:56 UTC</td>\n",
       "      <td>6.5</td>\n",
       "      <td>0</td>\n",
       "      <td>-73.992365</td>\n",
       "      <td>40.730521</td>\n",
       "      <td>-73.975499</td>\n",
       "      <td>40.744746</td>\n",
       "      <td>1</td>\n",
       "    </tr>\n",
       "    <tr>\n",
       "      <th>1</th>\n",
       "      <td>2010-04-17 15:43:53 UTC</td>\n",
       "      <td>6.9</td>\n",
       "      <td>0</td>\n",
       "      <td>-73.990078</td>\n",
       "      <td>40.740558</td>\n",
       "      <td>-73.974232</td>\n",
       "      <td>40.744114</td>\n",
       "      <td>1</td>\n",
       "    </tr>\n",
       "    <tr>\n",
       "      <th>2</th>\n",
       "      <td>2010-04-17 11:23:26 UTC</td>\n",
       "      <td>10.1</td>\n",
       "      <td>1</td>\n",
       "      <td>-73.994149</td>\n",
       "      <td>40.751118</td>\n",
       "      <td>-73.960064</td>\n",
       "      <td>40.766235</td>\n",
       "      <td>2</td>\n",
       "    </tr>\n",
       "    <tr>\n",
       "      <th>3</th>\n",
       "      <td>2010-04-11 21:25:03 UTC</td>\n",
       "      <td>8.9</td>\n",
       "      <td>0</td>\n",
       "      <td>-73.990485</td>\n",
       "      <td>40.756422</td>\n",
       "      <td>-73.971205</td>\n",
       "      <td>40.748192</td>\n",
       "      <td>1</td>\n",
       "    </tr>\n",
       "    <tr>\n",
       "      <th>4</th>\n",
       "      <td>2010-04-17 02:19:01 UTC</td>\n",
       "      <td>19.7</td>\n",
       "      <td>1</td>\n",
       "      <td>-73.990976</td>\n",
       "      <td>40.734202</td>\n",
       "      <td>-73.905956</td>\n",
       "      <td>40.743115</td>\n",
       "      <td>1</td>\n",
       "    </tr>\n",
       "  </tbody>\n",
       "</table>\n",
       "</div>"
      ],
      "text/plain": [
       "           pickup_datetime  fare_amount  fare_class  pickup_longitude  \\\n",
       "0  2010-04-19 08:17:56 UTC          6.5           0        -73.992365   \n",
       "1  2010-04-17 15:43:53 UTC          6.9           0        -73.990078   \n",
       "2  2010-04-17 11:23:26 UTC         10.1           1        -73.994149   \n",
       "3  2010-04-11 21:25:03 UTC          8.9           0        -73.990485   \n",
       "4  2010-04-17 02:19:01 UTC         19.7           1        -73.990976   \n",
       "\n",
       "   pickup_latitude  dropoff_longitude  dropoff_latitude  passenger_count  \n",
       "0        40.730521         -73.975499         40.744746                1  \n",
       "1        40.740558         -73.974232         40.744114                1  \n",
       "2        40.751118         -73.960064         40.766235                2  \n",
       "3        40.756422         -73.971205         40.748192                1  \n",
       "4        40.734202         -73.905956         40.743115                1  "
      ]
     },
     "execution_count": 174,
     "metadata": {},
     "output_type": "execute_result"
    }
   ],
   "source": [
    "# This is the limited dataset to run full ANN on this data.\n",
    "df = pd.read_csv(\"../Data/NYCTaxiFares.csv\")\n",
    "df.head()"
   ]
  },
  {
   "cell_type": "markdown",
   "id": "b4f7abcd-475f-43b5-87fa-cf325ebb209d",
   "metadata": {},
   "source": [
    "# The idea is to build a model to predict the fare_amount for a trip. It is a regression problem."
   ]
  },
  {
   "cell_type": "markdown",
   "id": "9b991ab8-5f15-45df-9281-f0e0d91b15e6",
   "metadata": {},
   "source": [
    "# Do some exploratory data analysis."
   ]
  },
  {
   "cell_type": "code",
   "execution_count": 175,
   "id": "3a7e5b27-d996-451a-a2ef-073e6d693a4d",
   "metadata": {},
   "outputs": [],
   "source": [
    "# What is the range of the target"
   ]
  },
  {
   "cell_type": "code",
   "execution_count": 176,
   "id": "0dbcd61f-87a4-4464-b293-0e76e7183ec8",
   "metadata": {},
   "outputs": [
    {
     "data": {
      "text/plain": [
       "count    120000.000000\n",
       "mean         10.040326\n",
       "std           7.500134\n",
       "min           2.500000\n",
       "25%           5.700000\n",
       "50%           7.700000\n",
       "75%          11.300000\n",
       "max          49.900000\n",
       "Name: fare_amount, dtype: float64"
      ]
     },
     "execution_count": 176,
     "metadata": {},
     "output_type": "execute_result"
    }
   ],
   "source": [
    "df['fare_amount'].describe()"
   ]
  },
  {
   "cell_type": "markdown",
   "id": "8498716e-1fb4-42ff-ad3a-15cebd390ba0",
   "metadata": {},
   "source": [
    "From this we see that fares range from \\\\$2.50 to \\\\$49.90, with a mean of \\\\$10.04 and a median of \\\\$7.70"
   ]
  },
  {
   "cell_type": "code",
   "execution_count": null,
   "id": "e2f8bd99-5e41-4667-a8c6-6902bacaa7e5",
   "metadata": {},
   "outputs": [],
   "source": []
  },
  {
   "cell_type": "code",
   "execution_count": 177,
   "id": "31469959-fcba-471d-967a-04e0f10bfcaa",
   "metadata": {},
   "outputs": [
    {
     "data": {
      "text/plain": [
       "count    120000.000000\n",
       "mean        -73.976626\n",
       "std           0.031497\n",
       "min         -74.465447\n",
       "25%         -73.992386\n",
       "50%         -73.982084\n",
       "75%         -73.968710\n",
       "max         -73.311845\n",
       "Name: pickup_longitude, dtype: float64"
      ]
     },
     "execution_count": 177,
     "metadata": {},
     "output_type": "execute_result"
    }
   ],
   "source": [
    "df['pickup_longitude'].describe()"
   ]
  },
  {
   "cell_type": "code",
   "execution_count": 178,
   "id": "cbf5d92c-6a95-4c0b-9386-6501460c9a8b",
   "metadata": {},
   "outputs": [],
   "source": [
    "# The dataset is fairly simple, so we have to do some feature engineering to pass features to the model.\n",
    "#  pickup_longitude and  pickup_longitude wouldn't make sense to be included as it is.\n",
    "    # because if you see the data, trip would be in the vicinity where pickup and dropoff location wouldn't change much.\n",
    "    # This is evident in the std of the describe() of the pickup_longitude column, std = 0.03\n"
   ]
  },
  {
   "cell_type": "markdown",
   "id": "f3a438ba-5ca1-41a4-9e4f-45e01521329f",
   "metadata": {},
   "source": [
    "# Information about the dataframe"
   ]
  },
  {
   "cell_type": "code",
   "execution_count": 179,
   "id": "7c3fa983-687d-4e19-9563-eef8e2912684",
   "metadata": {},
   "outputs": [
    {
     "name": "stdout",
     "output_type": "stream",
     "text": [
      "<class 'pandas.core.frame.DataFrame'>\n",
      "RangeIndex: 120000 entries, 0 to 119999\n",
      "Data columns (total 8 columns):\n",
      " #   Column             Non-Null Count   Dtype  \n",
      "---  ------             --------------   -----  \n",
      " 0   pickup_datetime    120000 non-null  object \n",
      " 1   fare_amount        120000 non-null  float64\n",
      " 2   fare_class         120000 non-null  int64  \n",
      " 3   pickup_longitude   120000 non-null  float64\n",
      " 4   pickup_latitude    120000 non-null  float64\n",
      " 5   dropoff_longitude  120000 non-null  float64\n",
      " 6   dropoff_latitude   120000 non-null  float64\n",
      " 7   passenger_count    120000 non-null  int64  \n",
      "dtypes: float64(5), int64(2), object(1)\n",
      "memory usage: 7.3+ MB\n"
     ]
    }
   ],
   "source": [
    "df.info()"
   ]
  },
  {
   "cell_type": "code",
   "execution_count": null,
   "id": "c6c20cbf-7038-47f9-9b64-2b9fe4584033",
   "metadata": {},
   "outputs": [],
   "source": []
  },
  {
   "cell_type": "markdown",
   "id": "cad328fb-2c78-420d-80c7-2078b84a8c78",
   "metadata": {},
   "source": [
    "# pickup datetime column "
   ]
  },
  {
   "cell_type": "code",
   "execution_count": 180,
   "id": "34fe2913-e707-4698-b8d1-e72e3e1ca93a",
   "metadata": {},
   "outputs": [],
   "source": [
    "# Converting this pickup_datetime to datetime column\n",
    "df['pickup_datetime'] = pd.to_datetime(df['pickup_datetime'])"
   ]
  },
  {
   "cell_type": "code",
   "execution_count": 181,
   "id": "16900395-91ae-4f84-848e-0dea222cd947",
   "metadata": {},
   "outputs": [
    {
     "name": "stdout",
     "output_type": "stream",
     "text": [
      "Min Date in this dataframe: 2010-04-11 04:00:10+00:00\n",
      "Min Date in this dataframe: 2010-04-25 03:59:42+00:00\n"
     ]
    }
   ],
   "source": [
    "print(f\"Min Date in this dataframe: {df['pickup_datetime'].min()}\")\n",
    "print(f\"Min Date in this dataframe: {df['pickup_datetime'].max()}\")"
   ]
  },
  {
   "cell_type": "markdown",
   "id": "007491a5-ba99-422b-8039-b1f06781b4d3",
   "metadata": {},
   "source": [
    "Because the time is in UTC and NY time is 4 hours behind UTC,  we need to subtract 4 hours from it and then do any kind of EDA on hours"
   ]
  },
  {
   "cell_type": "code",
   "execution_count": 182,
   "id": "2031e62a-dc88-462a-b621-6849a0d685bd",
   "metadata": {},
   "outputs": [
    {
     "data": {
      "text/plain": [
       "EDT_pickup_datetime\n",
       "15    7100\n",
       "14    6972\n",
       "16    6731\n",
       "17    6487\n",
       "18    6358\n",
       "13    5994\n",
       "10    5928\n",
       "11    5849\n",
       "9     5766\n",
       "8     5730\n",
       "4     5655\n",
       "19    5652\n",
       "5     5649\n",
       "7     5420\n",
       "6     5349\n",
       "12    5136\n",
       "3     4665\n",
       "20    4664\n",
       "21    3573\n",
       "22    2893\n",
       "2     2855\n",
       "23    2237\n",
       "0     1768\n",
       "1     1569\n",
       "Name: count, dtype: int64"
      ]
     },
     "execution_count": 182,
     "metadata": {},
     "output_type": "execute_result"
    }
   ],
   "source": [
    "df['EDT_pickup_datetime'] = df['pickup_datetime'] - pd.Timedelta(hours=4)\n",
    "df['EDT_pickup_datetime'].dt.hour.value_counts()"
   ]
  },
  {
   "cell_type": "markdown",
   "id": "8fc68ffb-b78a-4a7c-8751-22b86c5d41a0",
   "metadata": {},
   "source": [
    "# the highest pickups are happening in the afternoon at 3pm followed by 2pm, 4pm etc."
   ]
  },
  {
   "cell_type": "code",
   "execution_count": null,
   "id": "0df92442-6e4d-4d5a-8058-bd840604fd92",
   "metadata": {},
   "outputs": [],
   "source": []
  },
  {
   "cell_type": "markdown",
   "id": "16dbb05d-a942-4b06-abba-3383d98bca27",
   "metadata": {},
   "source": [
    "# Feature Engineering"
   ]
  },
  {
   "cell_type": "code",
   "execution_count": 183,
   "id": "1b7dd998-6966-4643-a6ac-f6dd14f3d741",
   "metadata": {},
   "outputs": [],
   "source": [
    "# Couple of Feature Engineering ideas to build features from this dataset\n",
    "# 1) hour of the day when pickup happened\n",
    "# 2) am/pm time of the day\n",
    "# 3_ day of the week\n",
    "# 4) some kind of distance between latitude and longitude.\n"
   ]
  },
  {
   "cell_type": "code",
   "execution_count": 184,
   "id": "2cda4b3d-ef78-4d39-9d4e-3b13794118a6",
   "metadata": {},
   "outputs": [],
   "source": [
    "# We will use haversine to calculate spherical distance between  GPS coordinates.\n",
    "def haversine_distance(df, lat1, long1, lat2, long2):\n",
    "    \"\"\"\n",
    "    Calculates the haversine distance between 2 sets of GPS coordinates in df\n",
    "    \"\"\"\n",
    "    r = 6371  # average radius of Earth in kilometers\n",
    "       \n",
    "    phi1 = np.radians(df[lat1])\n",
    "    phi2 = np.radians(df[lat2])\n",
    "    \n",
    "    delta_phi = np.radians(df[lat2]-df[lat1])\n",
    "    delta_lambda = np.radians(df[long2]-df[long1])\n",
    "     \n",
    "    a = np.sin(delta_phi/2)**2 + np.cos(phi1) * np.cos(phi2) * np.sin(delta_lambda/2)**2\n",
    "    c = 2 * np.arctan2(np.sqrt(a), np.sqrt(1-a))\n",
    "    d = (r * c) # in kilometers\n",
    "\n",
    "    return d"
   ]
  },
  {
   "cell_type": "code",
   "execution_count": null,
   "id": "30b5993c-8aac-437f-9970-339afe91cc09",
   "metadata": {},
   "outputs": [],
   "source": []
  },
  {
   "cell_type": "markdown",
   "id": "12f87222-af8b-407f-a028-4bd4312a7e38",
   "metadata": {},
   "source": [
    "# New Features"
   ]
  },
  {
   "cell_type": "code",
   "execution_count": 185,
   "id": "52eb8dd8-cc6d-4ec1-a1eb-0bf95dc59628",
   "metadata": {},
   "outputs": [
    {
     "data": {
      "text/html": [
       "<div>\n",
       "<style scoped>\n",
       "    .dataframe tbody tr th:only-of-type {\n",
       "        vertical-align: middle;\n",
       "    }\n",
       "\n",
       "    .dataframe tbody tr th {\n",
       "        vertical-align: top;\n",
       "    }\n",
       "\n",
       "    .dataframe thead th {\n",
       "        text-align: right;\n",
       "    }\n",
       "</style>\n",
       "<table border=\"1\" class=\"dataframe\">\n",
       "  <thead>\n",
       "    <tr style=\"text-align: right;\">\n",
       "      <th></th>\n",
       "      <th>pickup_datetime</th>\n",
       "      <th>fare_amount</th>\n",
       "      <th>fare_class</th>\n",
       "      <th>pickup_longitude</th>\n",
       "      <th>pickup_latitude</th>\n",
       "      <th>dropoff_longitude</th>\n",
       "      <th>dropoff_latitude</th>\n",
       "      <th>passenger_count</th>\n",
       "      <th>EDT_pickup_datetime</th>\n",
       "      <th>dist_km</th>\n",
       "      <th>hour_of_day</th>\n",
       "      <th>am_or_pm</th>\n",
       "      <th>day_of_week</th>\n",
       "      <th>weekday_or_weekend</th>\n",
       "    </tr>\n",
       "  </thead>\n",
       "  <tbody>\n",
       "    <tr>\n",
       "      <th>0</th>\n",
       "      <td>2010-04-19 08:17:56+00:00</td>\n",
       "      <td>6.5</td>\n",
       "      <td>0</td>\n",
       "      <td>-73.992365</td>\n",
       "      <td>40.730521</td>\n",
       "      <td>-73.975499</td>\n",
       "      <td>40.744746</td>\n",
       "      <td>1</td>\n",
       "      <td>2010-04-19 04:17:56+00:00</td>\n",
       "      <td>2.126312</td>\n",
       "      <td>4</td>\n",
       "      <td>am</td>\n",
       "      <td>Mon</td>\n",
       "      <td>weekday</td>\n",
       "    </tr>\n",
       "    <tr>\n",
       "      <th>1</th>\n",
       "      <td>2010-04-17 15:43:53+00:00</td>\n",
       "      <td>6.9</td>\n",
       "      <td>0</td>\n",
       "      <td>-73.990078</td>\n",
       "      <td>40.740558</td>\n",
       "      <td>-73.974232</td>\n",
       "      <td>40.744114</td>\n",
       "      <td>1</td>\n",
       "      <td>2010-04-17 11:43:53+00:00</td>\n",
       "      <td>1.392307</td>\n",
       "      <td>11</td>\n",
       "      <td>am</td>\n",
       "      <td>Sat</td>\n",
       "      <td>weekend</td>\n",
       "    </tr>\n",
       "    <tr>\n",
       "      <th>2</th>\n",
       "      <td>2010-04-17 11:23:26+00:00</td>\n",
       "      <td>10.1</td>\n",
       "      <td>1</td>\n",
       "      <td>-73.994149</td>\n",
       "      <td>40.751118</td>\n",
       "      <td>-73.960064</td>\n",
       "      <td>40.766235</td>\n",
       "      <td>2</td>\n",
       "      <td>2010-04-17 07:23:26+00:00</td>\n",
       "      <td>3.326763</td>\n",
       "      <td>7</td>\n",
       "      <td>am</td>\n",
       "      <td>Sat</td>\n",
       "      <td>weekend</td>\n",
       "    </tr>\n",
       "    <tr>\n",
       "      <th>3</th>\n",
       "      <td>2010-04-11 21:25:03+00:00</td>\n",
       "      <td>8.9</td>\n",
       "      <td>0</td>\n",
       "      <td>-73.990485</td>\n",
       "      <td>40.756422</td>\n",
       "      <td>-73.971205</td>\n",
       "      <td>40.748192</td>\n",
       "      <td>1</td>\n",
       "      <td>2010-04-11 17:25:03+00:00</td>\n",
       "      <td>1.864129</td>\n",
       "      <td>17</td>\n",
       "      <td>pm</td>\n",
       "      <td>Sun</td>\n",
       "      <td>weekend</td>\n",
       "    </tr>\n",
       "    <tr>\n",
       "      <th>4</th>\n",
       "      <td>2010-04-17 02:19:01+00:00</td>\n",
       "      <td>19.7</td>\n",
       "      <td>1</td>\n",
       "      <td>-73.990976</td>\n",
       "      <td>40.734202</td>\n",
       "      <td>-73.905956</td>\n",
       "      <td>40.743115</td>\n",
       "      <td>1</td>\n",
       "      <td>2010-04-16 22:19:01+00:00</td>\n",
       "      <td>7.231321</td>\n",
       "      <td>22</td>\n",
       "      <td>pm</td>\n",
       "      <td>Fri</td>\n",
       "      <td>weekday</td>\n",
       "    </tr>\n",
       "  </tbody>\n",
       "</table>\n",
       "</div>"
      ],
      "text/plain": [
       "            pickup_datetime  fare_amount  fare_class  pickup_longitude  \\\n",
       "0 2010-04-19 08:17:56+00:00          6.5           0        -73.992365   \n",
       "1 2010-04-17 15:43:53+00:00          6.9           0        -73.990078   \n",
       "2 2010-04-17 11:23:26+00:00         10.1           1        -73.994149   \n",
       "3 2010-04-11 21:25:03+00:00          8.9           0        -73.990485   \n",
       "4 2010-04-17 02:19:01+00:00         19.7           1        -73.990976   \n",
       "\n",
       "   pickup_latitude  dropoff_longitude  dropoff_latitude  passenger_count  \\\n",
       "0        40.730521         -73.975499         40.744746                1   \n",
       "1        40.740558         -73.974232         40.744114                1   \n",
       "2        40.751118         -73.960064         40.766235                2   \n",
       "3        40.756422         -73.971205         40.748192                1   \n",
       "4        40.734202         -73.905956         40.743115                1   \n",
       "\n",
       "        EDT_pickup_datetime   dist_km  hour_of_day am_or_pm day_of_week  \\\n",
       "0 2010-04-19 04:17:56+00:00  2.126312            4       am         Mon   \n",
       "1 2010-04-17 11:43:53+00:00  1.392307           11       am         Sat   \n",
       "2 2010-04-17 07:23:26+00:00  3.326763            7       am         Sat   \n",
       "3 2010-04-11 17:25:03+00:00  1.864129           17       pm         Sun   \n",
       "4 2010-04-16 22:19:01+00:00  7.231321           22       pm         Fri   \n",
       "\n",
       "  weekday_or_weekend  \n",
       "0            weekday  \n",
       "1            weekend  \n",
       "2            weekend  \n",
       "3            weekend  \n",
       "4            weekday  "
      ]
     },
     "execution_count": 185,
     "metadata": {},
     "output_type": "execute_result"
    }
   ],
   "source": [
    "df['dist_km'] = haversine_distance(df,'pickup_latitude', 'pickup_longitude', 'dropoff_latitude', 'dropoff_longitude')\n",
    "df['hour_of_day'] = df['EDT_pickup_datetime'].dt.hour\n",
    "\n",
    "df['am_or_pm'] = np.where(df['hour_of_day'] > 12, 'pm', 'am')\n",
    "\n",
    "# For day of the week\n",
    "df['day_of_week'] = df['EDT_pickup_datetime'].dt.strftime('%a')\n",
    "df['weekday_or_weekend'] = np.where(df['day_of_week'].isin(['Sat','Sun']), 'weekend', 'weekday')\n",
    "df.head()\n"
   ]
  },
  {
   "cell_type": "code",
   "execution_count": 186,
   "id": "8d6a1cd3-4773-4d35-b9a6-7a96d9dfbba8",
   "metadata": {},
   "outputs": [
    {
     "data": {
      "text/plain": [
       "day_of_week\n",
       "Fri    19720\n",
       "Thu    18539\n",
       "Sat    18355\n",
       "Wed    17360\n",
       "Tue    17189\n",
       "Mon    15509\n",
       "Sun    13328\n",
       "Name: count, dtype: int64"
      ]
     },
     "execution_count": 186,
     "metadata": {},
     "output_type": "execute_result"
    }
   ],
   "source": [
    "df['day_of_week'].value_counts()"
   ]
  },
  {
   "cell_type": "markdown",
   "id": "5d8b0fa8-a998-4568-971e-a4eccba777a6",
   "metadata": {},
   "source": [
    "# Separating into categorical, continuous and target"
   ]
  },
  {
   "cell_type": "code",
   "execution_count": 187,
   "id": "27a88205-a578-428b-9fa4-f1d37791b885",
   "metadata": {},
   "outputs": [],
   "source": [
    "cat_cols = ['hour_of_day', 'am_or_pm', 'weekday_or_weekend']\n",
    "cont_cols = ['pickup_longitude',\n",
    "       'pickup_latitude', 'dropoff_longitude', 'dropoff_latitude',\n",
    "       'passenger_count', 'dist_km']\n",
    "y_col = ['fare_amount']"
   ]
  },
  {
   "cell_type": "markdown",
   "id": "217f2f79-a493-4ff0-852f-c338ca9ef4b5",
   "metadata": {},
   "source": [
    "Converting categorical columns as categories. "
   ]
  },
  {
   "cell_type": "code",
   "execution_count": 188,
   "id": "61c426c2-b314-4f1d-86e1-e6aac01cd9da",
   "metadata": {},
   "outputs": [],
   "source": [
    "for cat in cat_cols:\n",
    "    df[cat] = df[cat].astype('category')"
   ]
  },
  {
   "cell_type": "markdown",
   "id": "91c3200f-3644-40a5-8e92-20539f60b0c7",
   "metadata": {},
   "source": [
    "# Recognizes cat_cols as categories."
   ]
  },
  {
   "cell_type": "code",
   "execution_count": 189,
   "id": "12c7ded9-45d1-47b5-ab4f-ab5b4414db7e",
   "metadata": {},
   "outputs": [
    {
     "name": "stdout",
     "output_type": "stream",
     "text": [
      "<class 'pandas.core.frame.DataFrame'>\n",
      "RangeIndex: 120000 entries, 0 to 119999\n",
      "Data columns (total 14 columns):\n",
      " #   Column               Non-Null Count   Dtype              \n",
      "---  ------               --------------   -----              \n",
      " 0   pickup_datetime      120000 non-null  datetime64[ns, UTC]\n",
      " 1   fare_amount          120000 non-null  float64            \n",
      " 2   fare_class           120000 non-null  int64              \n",
      " 3   pickup_longitude     120000 non-null  float64            \n",
      " 4   pickup_latitude      120000 non-null  float64            \n",
      " 5   dropoff_longitude    120000 non-null  float64            \n",
      " 6   dropoff_latitude     120000 non-null  float64            \n",
      " 7   passenger_count      120000 non-null  int64              \n",
      " 8   EDT_pickup_datetime  120000 non-null  datetime64[ns, UTC]\n",
      " 9   dist_km              120000 non-null  float64            \n",
      " 10  hour_of_day          120000 non-null  category           \n",
      " 11  am_or_pm             120000 non-null  category           \n",
      " 12  day_of_week          120000 non-null  object             \n",
      " 13  weekday_or_weekend   120000 non-null  category           \n",
      "dtypes: category(3), datetime64[ns, UTC](2), float64(6), int64(2), object(1)\n",
      "memory usage: 10.4+ MB\n"
     ]
    }
   ],
   "source": [
    "df.info()"
   ]
  },
  {
   "cell_type": "code",
   "execution_count": 190,
   "id": "9122c7db-05f1-4774-8c9f-86b39999f055",
   "metadata": {},
   "outputs": [
    {
     "data": {
      "text/plain": [
       "0     4\n",
       "1    11\n",
       "2     7\n",
       "3    17\n",
       "4    22\n",
       "Name: hour_of_day, dtype: category\n",
       "Categories (24, int32): [0, 1, 2, 3, ..., 20, 21, 22, 23]"
      ]
     },
     "execution_count": 190,
     "metadata": {},
     "output_type": "execute_result"
    }
   ],
   "source": [
    "df['hour_of_day'].head()"
   ]
  },
  {
   "cell_type": "code",
   "execution_count": null,
   "id": "3fefde67-9a29-4e4f-aca9-44c335d26e72",
   "metadata": {},
   "outputs": [],
   "source": []
  },
  {
   "cell_type": "code",
   "execution_count": 191,
   "id": "77d7ea05-afc9-4cc3-a042-a90a576eb1a5",
   "metadata": {},
   "outputs": [
    {
     "data": {
      "text/plain": [
       "tensor([[ 4,  0,  0],\n",
       "        [11,  0,  1],\n",
       "        [ 7,  0,  1],\n",
       "        ...,\n",
       "        [14,  1,  1],\n",
       "        [ 4,  0,  0],\n",
       "        [12,  0,  1]])"
      ]
     },
     "execution_count": 191,
     "metadata": {},
     "output_type": "execute_result"
    }
   ],
   "source": [
    "# Stacking categorical columns codes into array of values and converting it tensors.\n",
    "cats = np.stack([df[cat].cat.codes.values for cat in cat_cols], 1)\n",
    "cats = torch.tensor(cats, dtype=torch.int64)\n",
    "cats"
   ]
  },
  {
   "cell_type": "code",
   "execution_count": 192,
   "id": "e1a2a913-7a76-4a1d-9d71-799ec15484de",
   "metadata": {},
   "outputs": [
    {
     "data": {
      "text/plain": [
       "tensor([[-73.9924,  40.7305, -73.9755,  40.7447,   1.0000,   2.1263],\n",
       "        [-73.9901,  40.7406, -73.9742,  40.7441,   1.0000,   1.3923],\n",
       "        [-73.9941,  40.7511, -73.9601,  40.7662,   2.0000,   3.3268],\n",
       "        ...,\n",
       "        [-73.9886,  40.7498, -74.0115,  40.7078,   3.0000,   5.0525],\n",
       "        [-74.0044,  40.7245, -73.9927,  40.7308,   1.0000,   1.2089],\n",
       "        [-73.9554,  40.7719, -73.9676,  40.7630,   3.0000,   1.4274]])"
      ]
     },
     "execution_count": 192,
     "metadata": {},
     "output_type": "execute_result"
    }
   ],
   "source": [
    "conts = np.stack([df[cont].values for cont in cont_cols], 1)\n",
    "conts = torch.tensor(conts, dtype=torch.float)\n",
    "conts"
   ]
  },
  {
   "cell_type": "code",
   "execution_count": 193,
   "id": "f00fa1d7-ab7e-4ea2-822f-11a732df4dc7",
   "metadata": {},
   "outputs": [],
   "source": [
    "y = torch.tensor(df[y_col].values, dtype=torch.float).reshape(-1,1)"
   ]
  },
  {
   "cell_type": "code",
   "execution_count": null,
   "id": "bf00c083-49ea-4444-ba6a-155580e1af0e",
   "metadata": {},
   "outputs": [],
   "source": []
  },
  {
   "cell_type": "markdown",
   "id": "2e6b791d-c90b-416c-a771-48b1accba3ae",
   "metadata": {},
   "source": [
    "# Embedding Layer of pytorch for categorical columns, In simplicity it is just like one-hot encoding"
   ]
  },
  {
   "cell_type": "code",
   "execution_count": 194,
   "id": "b29e1349-7823-40a4-a0d0-a555a3bcf4fa",
   "metadata": {},
   "outputs": [
    {
     "data": {
      "text/plain": [
       "[24, 2, 2]"
      ]
     },
     "execution_count": 194,
     "metadata": {},
     "output_type": "execute_result"
    }
   ],
   "source": [
    "cat_sizes = [len(df[col].cat.categories) for col in cat_cols]\n",
    "cat_sizes"
   ]
  },
  {
   "cell_type": "code",
   "execution_count": 195,
   "id": "a84dfaed-c40b-4f5b-8fac-5517a8ed5274",
   "metadata": {},
   "outputs": [
    {
     "data": {
      "text/plain": [
       "[(24, 12), (2, 1), (2, 1)]"
      ]
     },
     "execution_count": 195,
     "metadata": {},
     "output_type": "execute_result"
    }
   ],
   "source": [
    "# Embedding sizes based of the categories. The embedding size for each category is give by the general rule of thumb is by \n",
    "# dividing the size by 2 maxed at 50.\n",
    "emb_sizes = [(size, min(50, (size+1)//2)) for size in cat_sizes]\n",
    "emb_sizes"
   ]
  },
  {
   "cell_type": "code",
   "execution_count": null,
   "id": "65688516-d7f2-414c-b04b-ec33ecbd152b",
   "metadata": {},
   "outputs": [],
   "source": []
  },
  {
   "cell_type": "markdown",
   "id": "3e2656be-b504-4ab2-b8eb-38ce34118fbf",
   "metadata": {},
   "source": [
    "# Tabular Model"
   ]
  },
  {
   "cell_type": "code",
   "execution_count": 196,
   "id": "4dced078-5555-4167-a95f-4d78dcd240a9",
   "metadata": {},
   "outputs": [],
   "source": [
    "class TabularModel(nn.Module):\n",
    "    def __init__(self, emb_sizes, n_cont, out_sz, layers, p=0.5):\n",
    "        super().__init__()\n",
    "        self.embeds = nn.ModuleList([nn.Embedding(ni,nf) for ni,nf in emb_sizes])\n",
    "        self.emb_drop = nn.Dropout(p)\n",
    "        self.bn_cont = nn.BatchNorm1d(n_cont)\n",
    "\n",
    "        layerlist=[]\n",
    "        n_embs = sum([nf for ni,nf in emb_sizes])\n",
    "        n_in = n_embs + n_cont\n",
    "\n",
    "        # eg layers input [200,100,50[\n",
    "        for i in layers:\n",
    "            layerlist.append(nn.Linear(n_in,i))\n",
    "            layerlist.append(nn.ReLU(inplace = True))\n",
    "            layerlist.append(nn.BatchNorm1d(i))\n",
    "            layerlist.append(nn.Dropout(p))\n",
    "            n_in = i\n",
    "        layerlist.append(nn.Linear(layers[-1], out_sz))\n",
    "        self.layers = nn.Sequential(*layerlist)\n",
    "     \n",
    "        \n",
    "    def forward(self, x_cat, x_cont):\n",
    "        embeddings = []\n",
    "\n",
    "        for i,e in enumerate(self.embeds):\n",
    "            embeddings.append(e(x_cat[:,i]))\n",
    "\n",
    "        x = torch.cat(embeddings,1)\n",
    "        x = self.emb_drop(x)\n",
    "        \n",
    "        x_cont = self.bn_cont(x_cont)\n",
    "        x = torch.cat([x, x_cont],1)\n",
    "        x = self.layers(x)\n",
    "        return x"
   ]
  },
  {
   "cell_type": "code",
   "execution_count": 197,
   "id": "c6bf0af1-efb8-48b7-b3bc-a87126fcc10c",
   "metadata": {},
   "outputs": [],
   "source": [
    "torch.manual_seed(33)\n",
    "model = TabularModel(emb_sizes, conts.shape[1], 1, [200,100], p=0.4)"
   ]
  },
  {
   "cell_type": "code",
   "execution_count": 198,
   "id": "13a93e0b-683a-4b43-9221-e98520be2672",
   "metadata": {},
   "outputs": [
    {
     "data": {
      "text/plain": [
       "TabularModel(\n",
       "  (embeds): ModuleList(\n",
       "    (0): Embedding(24, 12)\n",
       "    (1-2): 2 x Embedding(2, 1)\n",
       "  )\n",
       "  (emb_drop): Dropout(p=0.4, inplace=False)\n",
       "  (bn_cont): BatchNorm1d(6, eps=1e-05, momentum=0.1, affine=True, track_running_stats=True)\n",
       "  (layers): Sequential(\n",
       "    (0): Linear(in_features=20, out_features=200, bias=True)\n",
       "    (1): ReLU(inplace=True)\n",
       "    (2): BatchNorm1d(200, eps=1e-05, momentum=0.1, affine=True, track_running_stats=True)\n",
       "    (3): Dropout(p=0.4, inplace=False)\n",
       "    (4): Linear(in_features=200, out_features=100, bias=True)\n",
       "    (5): ReLU(inplace=True)\n",
       "    (6): BatchNorm1d(100, eps=1e-05, momentum=0.1, affine=True, track_running_stats=True)\n",
       "    (7): Dropout(p=0.4, inplace=False)\n",
       "    (8): Linear(in_features=100, out_features=1, bias=True)\n",
       "  )\n",
       ")"
      ]
     },
     "execution_count": 198,
     "metadata": {},
     "output_type": "execute_result"
    }
   ],
   "source": [
    "model"
   ]
  },
  {
   "cell_type": "markdown",
   "id": "44b5a08b-b97e-483f-9ca1-c5ab12694022",
   "metadata": {},
   "source": [
    "# Loss Criteria and optimizer"
   ]
  },
  {
   "cell_type": "code",
   "execution_count": 199,
   "id": "8928f653-db2c-4a6b-b0a1-391c67b2fa79",
   "metadata": {},
   "outputs": [],
   "source": [
    "criterion = nn.MSELoss()\n",
    "optimizer = torch.optim.Adam(model.parameters(), lr=0.001)"
   ]
  },
  {
   "cell_type": "code",
   "execution_count": 200,
   "id": "26b34b41-faa3-4a78-ac38-c0345e8bd61a",
   "metadata": {},
   "outputs": [],
   "source": [
    "# We feed in with two batches of batch_size = 60k"
   ]
  },
  {
   "cell_type": "code",
   "execution_count": 201,
   "id": "c72a3b18-ad76-470f-8830-7ab9b01dabcf",
   "metadata": {},
   "outputs": [],
   "source": [
    "batch_size = 60000\n",
    "test_size = int(batch_size*0.2)"
   ]
  },
  {
   "cell_type": "code",
   "execution_count": 202,
   "id": "15b3e619-d824-4bf2-b41b-453a68058985",
   "metadata": {},
   "outputs": [],
   "source": [
    "# Data Shuffled Already\n",
    "cat_train = cats[:batch_size-test_size]\n",
    "cat_test = cats[batch_size-test_size:batch_size]\n",
    "cont_train = conts[:batch_size-test_size]\n",
    "cont_test = conts[batch_size-test_size:batch_size]\n",
    "\n",
    "#Target\n",
    "y_train = y[:batch_size-test_size]\n",
    "y_test = y[batch_size-test_size:batch_size]"
   ]
  },
  {
   "cell_type": "code",
   "execution_count": null,
   "id": "0016d99d-faaa-4413-b203-5bd94f58e9fe",
   "metadata": {},
   "outputs": [],
   "source": []
  },
  {
   "cell_type": "code",
   "execution_count": 203,
   "id": "9b8557d6-4b58-4e7a-850a-d41e418bf785",
   "metadata": {},
   "outputs": [
    {
     "name": "stdout",
     "output_type": "stream",
     "text": [
      "epoch : 1 loss is 12.320149421691895\n",
      "epoch : 11 loss is 11.38512897491455\n",
      "epoch : 21 loss is 10.86568832397461\n",
      "epoch : 31 loss is 10.525838851928711\n",
      "epoch : 41 loss is 10.29439640045166\n",
      "epoch : 51 loss is 10.127175331115723\n",
      "epoch : 61 loss is 9.968570709228516\n",
      "epoch : 71 loss is 9.812289237976074\n",
      "epoch : 81 loss is 9.638513565063477\n",
      "epoch : 91 loss is 9.451355934143066\n",
      "epoch : 101 loss is 9.209268569946289\n",
      "epoch : 111 loss is 8.967071533203125\n",
      "epoch : 121 loss is 8.65581226348877\n",
      "epoch : 131 loss is 8.311509132385254\n",
      "epoch : 141 loss is 7.9370903968811035\n",
      "epoch : 151 loss is 7.501902103424072\n",
      "epoch : 161 loss is 7.040217399597168\n",
      "epoch : 171 loss is 6.558457851409912\n",
      "epoch : 181 loss is 6.075490474700928\n",
      "epoch : 191 loss is 5.573940753936768\n",
      "epoch : 201 loss is 5.110750198364258\n",
      "epoch : 211 loss is 4.701475620269775\n",
      "epoch : 221 loss is 4.344478607177734\n",
      "epoch : 231 loss is 4.111380100250244\n",
      "epoch : 241 loss is 3.9368112087249756\n",
      "epoch : 251 loss is 3.8321385383605957\n",
      "epoch : 261 loss is 3.776569128036499\n",
      "epoch : 271 loss is 3.7683751583099365\n",
      "epoch : 281 loss is 3.7002930641174316\n",
      "epoch : 291 loss is 3.703824996948242\n",
      "Training time 1.099778381983439 mins\n"
     ]
    }
   ],
   "source": [
    "import time\n",
    "start_time=time.time()\n",
    "epochs = 300\n",
    "\n",
    "losses = []\n",
    "for i in range(epochs):\n",
    "    y_pred = model(cat_train, cont_train)\n",
    "    loss = torch.sqrt(criterion(y_pred, y_train)) #RMSE\n",
    "\n",
    "    losses.append(loss)\n",
    "    if i%10==1:\n",
    "        print(f\"epoch : {i} loss is {loss}\")\n",
    "    optimizer.zero_grad()\n",
    "    loss.backward()\n",
    "    optimizer.step()\n",
    "\n",
    "\n",
    "dur = time.time() - start_time\n",
    "print(f'Training time {dur/60} mins')\n"
   ]
  },
  {
   "cell_type": "markdown",
   "id": "6d90a67b-2841-4b75-bcf8-c39a2bdc74e3",
   "metadata": {},
   "source": [
    "# Plots the losses on the epoch "
   ]
  },
  {
   "cell_type": "code",
   "execution_count": 204,
   "id": "cf81a4c9-8621-4e42-a869-bda76b393894",
   "metadata": {},
   "outputs": [
    {
     "data": {
      "text/plain": [
       "[<matplotlib.lines.Line2D at 0x246fe843b10>]"
      ]
     },
     "execution_count": 204,
     "metadata": {},
     "output_type": "execute_result"
    },
    {
     "data": {
      "image/png": "[encoded data removed]",
      "text/plain": [
       "<Figure size 640x480 with 1 Axes>"
      ]
     },
     "metadata": {},
     "output_type": "display_data"
    }
   ],
   "source": [
    "# Extracting numerical values from tensors\n",
    "loss_values = [loss.item() for loss in losses]\n",
    "\n",
    "plt.plot(range(epochs), loss_values)"
   ]
  },
  {
   "cell_type": "code",
   "execution_count": null,
   "id": "cb2c3aa0-eb34-41fc-8f77-3c0b0779b5dd",
   "metadata": {},
   "outputs": [],
   "source": []
  },
  {
   "cell_type": "markdown",
   "id": "b567de70-0620-4056-b22a-04917a78265f",
   "metadata": {},
   "source": [
    "# Evaluate on the test set"
   ]
  },
  {
   "cell_type": "code",
   "execution_count": 205,
   "id": "b025c066-266c-428d-a53a-34498b81df7d",
   "metadata": {},
   "outputs": [],
   "source": [
    "with torch.no_grad():\n",
    "    y_val = model(cat_test, cont_test)\n",
    "    loss = torch.sqrt(criterion(y_val, y_test))\n",
    "    "
   ]
  },
  {
   "cell_type": "code",
   "execution_count": 206,
   "id": "cc12c5e4-7bd3-47f5-9057-6cc150f32b5d",
   "metadata": {},
   "outputs": [
    {
     "data": {
      "text/plain": [
       "tensor(3.6847)"
      ]
     },
     "execution_count": 206,
     "metadata": {},
     "output_type": "execute_result"
    }
   ],
   "source": [
    "loss"
   ]
  },
  {
   "cell_type": "markdown",
   "id": "cb351e6e-eb5f-486b-90b1-e64b9e5362a3",
   "metadata": {},
   "source": [
    "# The loss on the test set is lower than the training loss. Need to check if there were more epochs, the training loss could have gone down but it looks \n",
    "# that it would have converged around 3.7"
   ]
  },
  {
   "cell_type": "code",
   "execution_count": null,
   "id": "31804393-68f9-4bfa-8da5-fd55ebc446eb",
   "metadata": {},
   "outputs": [],
   "source": []
  },
  {
   "cell_type": "markdown",
   "id": "d75ed736-d57f-4272-9ed0-f56ae6623f06",
   "metadata": {},
   "source": [
    "# How predicted and actual look on first 10 test data points."
   ]
  },
  {
   "cell_type": "code",
   "execution_count": 207,
   "id": "796e6989-4ac2-4d46-8c47-6b8b9b21cdb2",
   "metadata": {},
   "outputs": [
    {
     "name": "stdout",
     "output_type": "stream",
     "text": [
      "0.) PREDICTED :    4.53 TRUE :    2.90, diff :     1.63\n",
      "1.) PREDICTED :   22.86 TRUE :    5.70, diff :    17.16\n",
      "2.) PREDICTED :    6.80 TRUE :    7.70, diff :     0.90\n",
      "3.) PREDICTED :   13.12 TRUE :   12.50, diff :     0.62\n",
      "4.) PREDICTED :    4.36 TRUE :    4.10, diff :     0.26\n",
      "5.) PREDICTED :    5.45 TRUE :    5.30, diff :     0.15\n",
      "6.) PREDICTED :    8.23 TRUE :    3.70, diff :     4.53\n",
      "7.) PREDICTED :   20.66 TRUE :   14.50, diff :     6.16\n",
      "8.) PREDICTED :    3.33 TRUE :    5.70, diff :     2.37\n",
      "9.) PREDICTED :   13.59 TRUE :   10.10, diff :     3.49\n"
     ]
    }
   ],
   "source": [
    "for i in range(10):\n",
    "    diff = np.abs(y_val[i].item() - y_test[i].item())\n",
    "    print(f'{i}.) PREDICTED :{y_val[i].item():8.2f} TRUE :{y_test[i].item():8.2f}, diff : {diff:8.2f}') "
   ]
  },
  {
   "cell_type": "code",
   "execution_count": null,
   "id": "9e6cc934-3659-4d40-90f6-3abaee556aeb",
   "metadata": {},
   "outputs": [],
   "source": []
  },
  {
   "cell_type": "code",
   "execution_count": 208,
   "id": "c6fd0a5d-175e-4b3f-a3f7-98461524eea1",
   "metadata": {},
   "outputs": [],
   "source": [
    "# Save this model\n",
    "torch.save(model.state_dict, 'nyc_taxi_model.pt')"
   ]
  },
  {
   "cell_type": "code",
   "execution_count": null,
   "id": "0bc598b2-108a-4433-b4a7-58d644871809",
   "metadata": {},
   "outputs": [],
   "source": []
  }
 ],
 "metadata": {
  "kernelspec": {
   "display_name": "Python 3 (ipykernel)",
   "language": "python",
   "name": "python3"
  },
  "language_info": {
   "codemirror_mode": {
    "name": "ipython",
    "version": 3
   },
   "file_extension": ".py",
   "mimetype": "text/x-python",
   "name": "python",
   "nbconvert_exporter": "python",
   "pygments_lexer": "ipython3",
   "version": "3.11.8"
  }
 },
 "nbformat": 4,
 "nbformat_minor": 5
}
